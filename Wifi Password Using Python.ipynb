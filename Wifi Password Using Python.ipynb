{
 "cells": [
  {
   "cell_type": "code",
   "execution_count": null,
   "id": "60da6a1f",
   "metadata": {},
   "outputs": [
    {
     "name": "stdout",
     "output_type": "stream",
     "text": [
      "Pushpalatha                   |  123srinivasarao\n",
      "gopi                          |  password\n",
      "Realme 1                      |  password\n",
      "DEOHOSTEL.com                 |  deoniwas123\n",
      "deoniwas.com1                 |  deoniwas123\n",
      "Deo'_'Niwas                   |  deoniwas123\n",
      "deohostel.com2                |  deoniwas123\n",
      "deoniwas.com                  |  deoniwas123\n",
      "DeoHostel.Com                 |  deoniwas123\n",
      "LPU Wireless                  |  123456789a\n",
      "Block 37                      |  123456789a\n",
      "LPU Block-57                  |  123456789a\n",
      "wifi kavala nayana.....       |  1234venky\n",
      "tiptop oyo                    |  knight9988\n",
      "sowji                         |  sowjanya..1\n",
      "OnePlus 6T                    |  12345678\n",
      "GOLDIE COMPUTERS              |  Goldie789\n",
      "OLGA COMPUTERS 5G             |  olgaser123\n"
     ]
    }
   ],
   "source": [
    "import subprocess\n",
    "\n",
    "data = subprocess.check_output(['netsh', 'wlan', 'show', 'profiles']).decode('utf-8').split('\\n')\n",
    "profiles = [i.split(\":\")[1][1:-1] for i in data if \"All User Profile\" in i]\n",
    "for i in profiles:\n",
    "    results = subprocess.check_output(['netsh', 'wlan', 'show', 'profile', i, 'key=clear']).decode('utf-8').split('\\n')\n",
    "    results = [b.split(\":\")[1][1:-1] for b in results if \"Key Content\" in b]\n",
    "    try:\n",
    "        print (\"{:<30}|  {:<}\".format(i, results[0]))\n",
    "    except IndexError:\n",
    "        print (\"{:<30}|  {:<}\".format(i, \"\"))\n",
    "input(\"\")"
   ]
  },
  {
   "cell_type": "code",
   "execution_count": null,
   "id": "fe8a2688",
   "metadata": {},
   "outputs": [],
   "source": []
  }
 ],
 "metadata": {
  "kernelspec": {
   "display_name": "Python 3 (ipykernel)",
   "language": "python",
   "name": "python3"
  },
  "language_info": {
   "codemirror_mode": {
    "name": "ipython",
    "version": 3
   },
   "file_extension": ".py",
   "mimetype": "text/x-python",
   "name": "python",
   "nbconvert_exporter": "python",
   "pygments_lexer": "ipython3",
   "version": "3.9.12"
  }
 },
 "nbformat": 4,
 "nbformat_minor": 5
}
